{
  "nbformat": 4,
  "nbformat_minor": 0,
  "metadata": {
    "colab": {
      "name": "Copy of Python Programming: Variables, Printing, Comments, Operators and Input",
      "provenance": [],
      "collapsed_sections": [
        "ouu4WxP3MIgj",
        "Q9nYivGzNDz8",
        "ewLHJRjljHm2",
        "ZCa4gqEhMQeX",
        "enegx82E43R0",
        "UgmQhU5qeG8x",
        "wCNLWKgJeLJn"
      ],
      "toc_visible": true,
      "include_colab_link": true
    },
    "kernelspec": {
      "name": "python3",
      "display_name": "Python 3"
    }
  },
  "cells": [
    {
      "cell_type": "markdown",
      "metadata": {
        "id": "view-in-github",
        "colab_type": "text"
      },
      "source": [
        "<a href=\"https://colab.research.google.com/github/quincynjoroge/DataScience-/blob/main/Copy_of_Python_Programming_Variables%2C_Printing%2C_Comments%2C_Operators_and_Input.ipynb\" target=\"_parent\"><img src=\"https://colab.research.google.com/assets/colab-badge.svg\" alt=\"Open In Colab\"/></a>"
      ]
    },
    {
      "cell_type": "markdown",
      "metadata": {
        "id": "yP8LWf2IYcPt"
      },
      "source": [
        "# Variables, Printing, Comments, Operators and Input"
      ]
    },
    {
      "cell_type": "markdown",
      "metadata": {
        "id": "ZJUYY3Kvm4jW"
      },
      "source": [
        "<font color=\"green\">*To start working on this notebook, or any other notebook that we will use in this course, we will need to save our own copy of it. We can do this by clicking File > Save a Copy in Drive. We will then be able to make edits to our own copy of this notebook.*</font>\n",
        "\n",
        "---\n",
        "\n"
      ]
    },
    {
      "cell_type": "markdown",
      "metadata": {
        "id": "ouu4WxP3MIgj"
      },
      "source": [
        "## 1.0 Introduction"
      ]
    },
    {
      "cell_type": "markdown",
      "metadata": {
        "id": "FpRH6APAK3vV"
      },
      "source": [
        "Python is a programming language that is popularly used for data science. In this section we will get to learn the basics of the python programming language. More specifically, we will get to learn about printing, comments, variables operators and Input.\n",
        "\n",
        "---\n",
        "\n",
        "\n",
        "\n",
        "\n",
        "\n"
      ]
    },
    {
      "cell_type": "markdown",
      "metadata": {
        "id": "7LQwxB9bVRP1"
      },
      "source": [
        "Let's now swiftly begin to write code. Code is a set of instructions that a programmer writes so as to perform a particular task. Code can be written to perform calculations, move a robotic arm, perform analysis etc. During the course of the Moringa Data Science program, we will write alot of code and and this will help you become more confortable at solving a diverse of data science problems. \n",
        "\n",
        "We will also be using Colaboratory, which is an environment that we can use to run our code. This will eliminate the need to spend alot of time installing and configuring your environment and help you spend more time on learning how to write effective code.\n",
        "\n",
        "The page that we are currently using is called a notebook, while the different sections of this notebook are called cells. The cells can be either code or text. In order to start using a ready created notebook just like this one, we will have to first save a copy of this note book on drive i.e. visit File > Save a copy in Drive. This will allow us to have our own copy of the notebook and update any changes we want for example adding code. \n",
        "\n",
        "In order to run our code as shown in the example below, we can drag our mouse to the left of the cell and click on the circular icon with a triangle pointing to the right. Alternatively, we can click inside the cell which we want to run, then press shift+return buttons on our keyboard, all at the same time.\n",
        "\n"
      ]
    },
    {
      "cell_type": "code",
      "metadata": {
        "id": "STRIQLywyUzJ",
        "colab": {
          "base_uri": "https://localhost:8080/"
        },
        "outputId": "fe1e977b-1bce-4b3a-a50d-93ab18f12cf8"
      },
      "source": [
        "# Example 1\n",
        "# \n",
        "print(\"I just ran my first python code\")"
      ],
      "execution_count": 1,
      "outputs": [
        {
          "output_type": "stream",
          "text": [
            "I just ran my first python code\n"
          ],
          "name": "stdout"
        }
      ]
    },
    {
      "cell_type": "markdown",
      "metadata": {
        "id": "DQXZu9wpDN5E"
      },
      "source": [
        "Don't worry, the first run of the code will take a few seconds to run. Thereafter, the running of our code will be much more faster. As we have also seen, our code is displayed at the bottom of the cell. This section of the cell is called the console and its where the output of our code will always be displayed."
      ]
    },
    {
      "cell_type": "markdown",
      "metadata": {
        "id": "Q9nYivGzNDz8"
      },
      "source": [
        "## 1.1 Printing\n"
      ]
    },
    {
      "cell_type": "markdown",
      "metadata": {
        "id": "K2Y5xqKgKwWF"
      },
      "source": [
        "The second thing that you must have noted in that line of code that we've just ran, is the keyword \"print\". This keyword is meant to print out any text that goes into the following parenthesis. By printing out, we mean outputing our code in the console.  As we continue learning python, we will also come across other keywords that are used to perform different tasks. Such keywords which have two brackets as print() are called functions. In the above example, we used the function print(). We shouldn't now worry about what these functions are as we will learn about them later in the course."
      ]
    },
    {
      "cell_type": "markdown",
      "metadata": {
        "id": "ewLHJRjljHm2"
      },
      "source": [
        "### <font color = 'green'> 1.1 Challenges</font>"
      ]
    },
    {
      "cell_type": "code",
      "metadata": {
        "id": "A9EAzlEUjKDf",
        "colab": {
          "base_uri": "https://localhost:8080/"
        },
        "outputId": "ac7fd2bb-665f-421b-c94f-2a5b2ebcf911"
      },
      "source": [
        "# Challenge 1:\n",
        "# Let's now print out your name in the console of this cell.\n",
        "# Replace the text \"OUR CODE GOES HERE\" with the code that you will write \n",
        "# and do likewise to the following examples.\n",
        "#\n",
        "\n",
        "print(\"My name is Quincy\")"
      ],
      "execution_count": null,
      "outputs": [
        {
          "output_type": "stream",
          "text": [
            "My name is Quincy\n"
          ],
          "name": "stdout"
        }
      ]
    },
    {
      "cell_type": "code",
      "metadata": {
        "id": "Ffeem6qVjKar",
        "colab": {
          "base_uri": "https://localhost:8080/"
        },
        "outputId": "37f88980-7624-46de-835c-b2f295c8c514"
      },
      "source": [
        "# Challenge 2:\n",
        "# Let's print \"I am a Moringa Data Science Student\" below\n",
        "#\n",
        "\n",
        "print(\"I am a Moringa Data Science Student\")"
      ],
      "execution_count": null,
      "outputs": [
        {
          "output_type": "stream",
          "text": [
            "I am a Moringa Data Science Student\n"
          ],
          "name": "stdout"
        }
      ]
    },
    {
      "cell_type": "code",
      "metadata": {
        "id": "B3681apHjKRN",
        "colab": {
          "base_uri": "https://localhost:8080/"
        },
        "outputId": "0ce67f5d-7626-4814-9326-48fa8ffde88b"
      },
      "source": [
        "# Challenge 3:\n",
        "# Print out the sum of 44 and 22 below\n",
        "# NB: We need to see 44 + 22 in our code \n",
        "# \n",
        "\n",
        "print(44+22)"
      ],
      "execution_count": null,
      "outputs": [
        {
          "output_type": "stream",
          "text": [
            "66\n"
          ],
          "name": "stdout"
        }
      ]
    },
    {
      "cell_type": "markdown",
      "metadata": {
        "id": "ZCa4gqEhMQeX"
      },
      "source": [
        "## 1.2 Comments "
      ]
    },
    {
      "cell_type": "markdown",
      "metadata": {
        "id": "gnuZm4DJf46i"
      },
      "source": [
        "In this section, we will learn about another key concept of programming - Comments. \n",
        "\n",
        "Programmers and Data Scientists use comments to explain what their code means. These comments are acually pieces of code that do not get translated by the computer. We will use them as helpful messages that we leave within our code. \n",
        "\n",
        "Comments are created by putthing a hash character(#) before the line we would like the computer to ignore. By doing that we would say that we have commented out that line. \n",
        "\n",
        "For example, in the cell below, the first line is the commented out line in the code. It explains what the following code means. "
      ]
    },
    {
      "cell_type": "code",
      "metadata": {
        "id": "xJBU9EQoYcPt",
        "colab": {
          "base_uri": "https://localhost:8080/"
        },
        "outputId": "219c54eb-9524-4e0b-f89f-d02ad547f248"
      },
      "source": [
        "# Example 1\n",
        "# The code below will print out the statement \"I already love Python\". \n",
        "# Let's press the shortcut shift + return (enter button) at the same time\n",
        "# to run the code in this cell. \n",
        "# \n",
        "print ('I already love Python')"
      ],
      "execution_count": null,
      "outputs": [
        {
          "output_type": "stream",
          "text": [
            "I already love Python\n"
          ],
          "name": "stdout"
        }
      ]
    },
    {
      "cell_type": "markdown",
      "metadata": {
        "id": "cXhURK-yvBfu"
      },
      "source": [
        "Good! Let's now comment out the code in the following cell and later run the code. By uncommenting we mean removing the last line # character before print."
      ]
    },
    {
      "cell_type": "code",
      "metadata": {
        "id": "ZQj19k6kvLpy",
        "colab": {
          "base_uri": "https://localhost:8080/"
        },
        "outputId": "4a8e3a44-1d41-4c7b-ebf6-e8527d4ff83c"
      },
      "source": [
        "# Example 2\n",
        "#\n",
        "print('My home is Kenya, all wild and wonderful!')"
      ],
      "execution_count": null,
      "outputs": [
        {
          "output_type": "stream",
          "text": [
            "My home is Kenya, all wild and wonderful!\n"
          ],
          "name": "stdout"
        }
      ]
    },
    {
      "cell_type": "markdown",
      "metadata": {
        "id": "ai0VXezYyCVl"
      },
      "source": [
        "If we'd like to make multiline comments, we can also use the # character as shown below:"
      ]
    },
    {
      "cell_type": "code",
      "metadata": {
        "id": "9Ap2sfRVyA8s",
        "colab": {
          "base_uri": "https://localhost:8080/"
        },
        "outputId": "778143cd-191f-4d5b-fcd9-8752b0d0ed5a"
      },
      "source": [
        "# Example 3\n",
        "# The following line of code prints out \n",
        "# \"I have just began my Data science journey\" in the console\n",
        "# \n",
        "print(\"I have just began my data science journey\")"
      ],
      "execution_count": null,
      "outputs": [
        {
          "output_type": "stream",
          "text": [
            "I have just began my data science journey\n"
          ],
          "name": "stdout"
        }
      ]
    },
    {
      "cell_type": "markdown",
      "metadata": {
        "id": "9g9cO9kTj7eS"
      },
      "source": [
        "### <font color = 'green'> 1.2 Challenges</font> "
      ]
    },
    {
      "cell_type": "code",
      "metadata": {
        "id": "X6FOU-U5j1_0",
        "colab": {
          "base_uri": "https://localhost:8080/"
        },
        "outputId": "0715c59f-63e1-42d9-b9bd-ea5f32e50df0"
      },
      "source": [
        "# Challenge 1:\n",
        "# We now add multiline comments that explain what happens to a line \n",
        "# that prints out the name of your home town below \n",
        "#\n",
        "# This code will print out \n",
        "# the name of my home town\n",
        "print(\"My home town is Nairobi,Kenya.\")"
      ],
      "execution_count": null,
      "outputs": [
        {
          "output_type": "stream",
          "text": [
            "My home town is Nairobi,Kenya.\n"
          ],
          "name": "stdout"
        }
      ]
    },
    {
      "cell_type": "code",
      "metadata": {
        "id": "TUlfErrLj31q",
        "colab": {
          "base_uri": "https://localhost:8080/"
        },
        "outputId": "ed6e8377-0169-4d69-b29a-620aec06f918"
      },
      "source": [
        "# Challenge 2:\n",
        "# Add comments to the program below. Add comments in two lines. \n",
        "# \n",
        "\n",
        "#This code assigns the text Hello Brenda! to variable a\n",
        "a = \"Hello Brenda!\"\n",
        "\n",
        "#This code outputs the text assigned to the variable a\n",
        "print(a)"
      ],
      "execution_count": null,
      "outputs": [
        {
          "output_type": "stream",
          "text": [
            "Hello Brenda!\n"
          ],
          "name": "stdout"
        }
      ]
    },
    {
      "cell_type": "code",
      "metadata": {
        "id": "RsAK7Vfmj6Pi",
        "colab": {
          "base_uri": "https://localhost:8080/"
        },
        "outputId": "7ae7677c-dc99-46cc-cc52-abfcbe286689"
      },
      "source": [
        "# Challenge 3:\n",
        "# Run the code below then try to figure out what happens.\n",
        "# Then from your understanding, provide a documentation to the program\n",
        "# NB: By documentation we mean add comments to the program \n",
        "# to help the reader to understand the program.\n",
        "# Hint: Explain each line of the program.\n",
        "#\n",
        "#this code binds the list of the months of the year to variable months\n",
        "months = ['January', 'February', 'March', 'April', 'May', 'June', 'July','August','September','October', 'November','December']\n",
        "#this function shows the months passed in as the parameter\n",
        "def showCalender(months):\n",
        "  \n",
        "    for month in months:\n",
        "        print(month)\n",
        "        \n",
        "#This code calls the function showCalendar so as to output the months        \n",
        "showCalender(months)"
      ],
      "execution_count": null,
      "outputs": [
        {
          "output_type": "stream",
          "text": [
            "January\n",
            "February\n",
            "March\n",
            "April\n",
            "May\n",
            "June\n",
            "July\n",
            "August\n",
            "September\n",
            "October\n",
            "November\n",
            "December\n"
          ],
          "name": "stdout"
        }
      ]
    },
    {
      "cell_type": "markdown",
      "metadata": {
        "id": "enegx82E43R0"
      },
      "source": [
        "## 1.3 Variables"
      ]
    },
    {
      "cell_type": "markdown",
      "metadata": {
        "id": "BkeWKmaiVZrw"
      },
      "source": [
        "The next thing we will learn is a variable. This is simply a container that we can use to store a value. This value can be a number, a character, a string (which is just a set of characters), a list (we will learn this, a dictionary - we will also learn this), etc. "
      ]
    },
    {
      "cell_type": "markdown",
      "metadata": {
        "id": "MNf-A-Vu_aPR"
      },
      "source": [
        "In python, we would create a variable and store a value at the same time, just as shown in the following example."
      ]
    },
    {
      "cell_type": "code",
      "metadata": {
        "id": "dnmsWMx8_SUA"
      },
      "source": [
        "# Example 1\n",
        "# We store the value 10 in a variable p. In programming we say that \"we are assigning the value 10 to p\"\n",
        "# Running this cell won't output anything. Why? You can discuss this with your peer. \n",
        "# If you haven't figure it out, then go on to the next example and you'll know why\n",
        "#\n",
        "p = 10"
      ],
      "execution_count": null,
      "outputs": []
    },
    {
      "cell_type": "code",
      "metadata": {
        "id": "4jZQErLZVd_y",
        "colab": {
          "base_uri": "https://localhost:8080/"
        },
        "outputId": "eea40ca4-0b4e-4d84-e100-c2c36a5e3322"
      },
      "source": [
        "# Example 2\n",
        "# So as to create a variable we use the equals sign; =, like in the example below. \n",
        "# This sign is usually regarded to what is called an assignment operator.\n",
        "# How do we say what is happening to 5 and x below? We've learned this in\n",
        "# the previous example.\n",
        "# \n",
        "x = 5\n",
        "\n",
        "# Because we have assigned the value 5 to x, \n",
        "# we now need to print out and see whether x has that value. \n",
        "# Lets print out x below this line using the print() function below\n",
        "#\n",
        "print(5)"
      ],
      "execution_count": null,
      "outputs": [
        {
          "output_type": "stream",
          "text": [
            "5\n"
          ],
          "name": "stdout"
        }
      ]
    },
    {
      "cell_type": "code",
      "metadata": {
        "id": "zitN-ocgVqsF",
        "colab": {
          "base_uri": "https://localhost:8080/"
        },
        "outputId": "8a9288cb-c234-43dc-9d99-747a48aec0cb"
      },
      "source": [
        "# Example 3\n",
        "# Nice, Work now on this challenge: \n",
        "# Create a savings variable with the value 1000 \n",
        "#\n",
        "savings = 1000\n",
        "# Then print this savings variable below this line;\n",
        "print(savings)"
      ],
      "execution_count": null,
      "outputs": [
        {
          "output_type": "stream",
          "text": [
            "1000\n"
          ],
          "name": "stdout"
        }
      ]
    },
    {
      "cell_type": "code",
      "metadata": {
        "id": "Mjj8BXlNYcPx",
        "colab": {
          "base_uri": "https://localhost:8080/"
        },
        "outputId": "f896e780-5158-4508-8d60-69038ce4d148"
      },
      "source": [
        "# Example 4\n",
        "# Now uncomment the below lines to print a, \n",
        "# then later uncomment b = 5 and later uncomment print(b)\n",
        "# Do note what happens\n",
        "#\n",
        "\n",
        "a = 10\n",
        "\n",
        "print(a)\n",
        "\n",
        "b = 5\n",
        "\n",
        "print(b)"
      ],
      "execution_count": null,
      "outputs": [
        {
          "output_type": "stream",
          "text": [
            "10\n",
            "5\n"
          ],
          "name": "stdout"
        }
      ]
    },
    {
      "cell_type": "markdown",
      "metadata": {
        "id": "O8SLfCskkHv4"
      },
      "source": [
        "### <font color = 'green'>  1.3 Challenges </font>"
      ]
    },
    {
      "cell_type": "code",
      "metadata": {
        "id": "313rKbkAkKcR",
        "colab": {
          "base_uri": "https://localhost:8080/"
        },
        "outputId": "2964706f-6320-44b7-c7ce-85bba954b5ff"
      },
      "source": [
        "# Challenge 1\n",
        "# Assign the book Harry Potter and the Deathly Hollows to the variable author\n",
        "#\n",
        "author = 'Harry Potter and the Deathly Hollows'\n",
        "print(author)"
      ],
      "execution_count": null,
      "outputs": [
        {
          "output_type": "stream",
          "text": [
            "Harry Potter and the Deathly Hollows\n"
          ],
          "name": "stdout"
        }
      ]
    },
    {
      "cell_type": "code",
      "metadata": {
        "id": "3PN6Ef_gkK39",
        "colab": {
          "base_uri": "https://localhost:8080/"
        },
        "outputId": "815bab27-0b67-437b-a2d0-e2d2c2e1a51b"
      },
      "source": [
        "# Challenge 2\n",
        "# Fix the following code the run the cell\n",
        "#\n",
        "Einstein = '7_quote'\n",
        "print(Einstein)"
      ],
      "execution_count": null,
      "outputs": [
        {
          "output_type": "stream",
          "text": [
            "7_quote\n"
          ],
          "name": "stdout"
        }
      ]
    },
    {
      "cell_type": "code",
      "metadata": {
        "id": "IUdjEiyAkKpE",
        "colab": {
          "base_uri": "https://localhost:8080/"
        },
        "outputId": "71d25421-c0da-4252-e560-3787010c2f30"
      },
      "source": [
        "# Challenge 3\n",
        "# Fix the following code the run the cell\n",
        "#\n",
        "second_number = 400\n",
        "print (second_number)"
      ],
      "execution_count": null,
      "outputs": [
        {
          "output_type": "stream",
          "text": [
            "400\n"
          ],
          "name": "stdout"
        }
      ]
    },
    {
      "cell_type": "markdown",
      "metadata": {
        "id": "UgmQhU5qeG8x"
      },
      "source": [
        "## 1.4 Operators"
      ]
    },
    {
      "cell_type": "code",
      "metadata": {
        "id": "Rz2NNvZmYcP0",
        "colab": {
          "base_uri": "https://localhost:8080/"
        },
        "outputId": "b1be94e3-eba2-4a26-abd4-70169a8d8f58"
      },
      "source": [
        "# Example 1\n",
        "# In this section, we are going to use the variable a and b to perform \n",
        "# some arithmetic operations. Variable values or the variables from the above cell are retained \n",
        "# and can be used with the values that they were assigned to. \n",
        "# We will learn more about this when we run the lines below.\n",
        "# Let's run this cell once then \n",
        "# Uncomment the lines below to see the effect for multiplication, division and substraction \n",
        "#\n",
        "\n",
        "print(a + b)\n",
        "\n",
        "print(a * b)\n",
        "\n",
        "print(a / b)\n",
        "\n",
        "print(a - b)"
      ],
      "execution_count": null,
      "outputs": [
        {
          "output_type": "stream",
          "text": [
            "15\n",
            "50\n",
            "2.0\n",
            "5\n"
          ],
          "name": "stdout"
        }
      ]
    },
    {
      "cell_type": "code",
      "metadata": {
        "id": "w7UUv925YcP2",
        "colab": {
          "base_uri": "https://localhost:8080/"
        },
        "outputId": "23eaa24b-36b1-44fb-eaad-58cd32cae58f"
      },
      "source": [
        "# Example 2\n",
        "# What would happen if we assigned the value of a + b to a. \n",
        "# Then try to come up with the answer in your mind \n",
        "# before uncommenting the line below;\n",
        "# \n",
        "\n",
        "a = a + b\n",
        "\n",
        "print(a)"
      ],
      "execution_count": null,
      "outputs": [
        {
          "output_type": "stream",
          "text": [
            "15\n"
          ],
          "name": "stdout"
        }
      ]
    },
    {
      "cell_type": "code",
      "metadata": {
        "id": "yVolQ1lCYcP5",
        "colab": {
          "base_uri": "https://localhost:8080/"
        },
        "outputId": "f4316cb5-112f-44bf-f728-5e3665be9c49"
      },
      "source": [
        "# Example 3\n",
        "# Nice. Now we will introduce a rather unfamiliar operator that we normally use in python.\n",
        "# This operator is called the increment operator \n",
        "# \n",
        "\n",
        "a += b\n",
        "\n",
        "print(a)\n",
        "\n",
        "# Try using the decrement operator below. The decrement operator is -=\n",
        "\n",
        "a -= b\n",
        "print (a)"
      ],
      "execution_count": null,
      "outputs": [
        {
          "output_type": "stream",
          "text": [
            "35\n",
            "30\n"
          ],
          "name": "stdout"
        }
      ]
    },
    {
      "cell_type": "markdown",
      "metadata": {
        "id": "VoM4VEWeTxue"
      },
      "source": [
        "As you have seen, python is perfectly suited to do basic calculations. Apart from addition, subtraction, multiplication and division, there is also support for more advanced operations such as:\n",
        "\n",
        "\n",
        "*   Exponentiation:  This operator raises the number to its left to the power of the number to its right. For example 4**2 will give 16.\n",
        "*   Modulo: %. This operator returns the remainder of the division of the number to the left by the number on its right. For example 18 % 7 equals 4."
      ]
    },
    {
      "cell_type": "code",
      "metadata": {
        "id": "s6fPLiHaTJs7",
        "colab": {
          "base_uri": "https://localhost:8080/"
        },
        "outputId": "89d172b7-1b01-4c23-d5a3-d29b70003ab6"
      },
      "source": [
        "# Example 4\n",
        "# Lets uncomment the lines below to Exponentiation and then \n",
        "#\n",
        "\n",
        "print(18 % 7)\n",
        "print(4 ** 2)"
      ],
      "execution_count": null,
      "outputs": [
        {
          "output_type": "stream",
          "text": [
            "4\n",
            "16\n"
          ],
          "name": "stdout"
        }
      ]
    },
    {
      "cell_type": "markdown",
      "metadata": {
        "id": "8MEIfFSclWvn"
      },
      "source": [
        "### <font color = 'green'> 1.4 Challenges </font>"
      ]
    },
    {
      "cell_type": "code",
      "metadata": {
        "id": "iILThnq6laDQ",
        "colab": {
          "base_uri": "https://localhost:8080/"
        },
        "outputId": "f2f55435-6280-4331-e2d2-07dcd5a8390a"
      },
      "source": [
        "# Challenge 1\n",
        "# Three persons have three notes of Ksh.50, Ksh.100 and Ksh.500.\n",
        "# Create three variables; person 1, person 2 and person 3 then \n",
        "# Find out the average of their money and display it below\n",
        "#\n",
        "person1 = 50\n",
        "person2 = 100\n",
        "person3 = 500\n",
        "\n",
        "print((person1+person2+person3)/3)"
      ],
      "execution_count": null,
      "outputs": [
        {
          "output_type": "stream",
          "text": [
            "216.66666666666666\n"
          ],
          "name": "stdout"
        }
      ]
    },
    {
      "cell_type": "code",
      "metadata": {
        "id": "P9fCjPn9la7V",
        "colab": {
          "base_uri": "https://localhost:8080/"
        },
        "outputId": "12be2b32-4fda-4041-c57c-be6969d9c792"
      },
      "source": [
        "# Challenge 2\n",
        "# An online shop sells designer jeans and t-shirts. \n",
        "# Each jeans costs Ksh. 4500 and t-shirt costs Ksh. 2500.\n",
        "# Calculate the cost below if you were to buy 3 pairs of jeans and 6 t-shirts\n",
        "# using variables and operators.\n",
        "#\n",
        "#This code assigns the value 4500 to j which represents the price for jeans\n",
        "#and 2500 to t which represents t-shirt\n",
        "j = 4500\n",
        "t = 2500\n",
        "#This code calculates price for 3 pairs of jeans\n",
        "j = j*3\n",
        "#This code calculates price for 6 t-shirts\n",
        "t = t*6\n",
        "#This code outputs total cost\n",
        "print(j+t)\n"
      ],
      "execution_count": null,
      "outputs": [
        {
          "output_type": "stream",
          "text": [
            "28500\n"
          ],
          "name": "stdout"
        }
      ]
    },
    {
      "cell_type": "code",
      "metadata": {
        "id": "NIDidtkllawY",
        "colab": {
          "base_uri": "https://localhost:8080/"
        },
        "outputId": "82723499-32e4-4de5-8e33-15d14de6d478"
      },
      "source": [
        "# Challenge 3\n",
        "# We have Ksh 1000, which you invest with a 10% return each year. \n",
        "# After one year, it's 1000 × 1.1 = 1100 shillings, and after two years \n",
        "# it's 1000 × 1.1 × 1.1 = 121. \n",
        "# Now, write code below to calculate how much money \n",
        "# you would end up with after 7 years.\n",
        "# How much is your Ksh. 1000 worth after 15 years?\n",
        "# ----------\n",
        "# Hint: Instead of calculating with the actual values, you can use variables instead. \n",
        "# The savings variable you've created in the previous exercise represents the Ksh 1000 you started with. \n",
        "# It's up to you to create a new variable to represent 1.1 and then redo the calculations!\n",
        "# ----------\n",
        "\n",
        "# We can recreate the savings variable that we will use below\n",
        "#\n",
        "savings = 1000\n",
        "\n",
        "# and create a growth_multiplier variable that is equal to 1.1.\n",
        "returns = 1.1\n",
        "\n",
        "\n",
        "# Then create a result variable and equal it to the amount of money you saved after 7 years.\n",
        "result = savings * (returns**7)\n",
        "result2 = savings * (returns**15)\n",
        "# Then print out the value of result below\n",
        "print(result)\n",
        "print(result2)"
      ],
      "execution_count": null,
      "outputs": [
        {
          "output_type": "stream",
          "text": [
            "1948.7171000000012\n",
            "4177.248169415656\n"
          ],
          "name": "stdout"
        }
      ]
    },
    {
      "cell_type": "markdown",
      "metadata": {
        "id": "wCNLWKgJeLJn"
      },
      "source": [
        "## 1.5 Input"
      ]
    },
    {
      "cell_type": "code",
      "metadata": {
        "id": "KFoVX3qxUVX5",
        "colab": {
          "base_uri": "https://localhost:8080/"
        },
        "outputId": "b9b3fc91-13ae-4bce-b99d-f3e99e45ee30"
      },
      "source": [
        "# Example 1\n",
        "# The input() function allows for user input as shown\n",
        "# \n",
        "g = int(input(\"Enter a number: \") )\n",
        "\n",
        "print (g + 2)"
      ],
      "execution_count": null,
      "outputs": [
        {
          "output_type": "stream",
          "text": [
            "Enter a number: 7\n",
            "9\n"
          ],
          "name": "stdout"
        }
      ]
    },
    {
      "cell_type": "code",
      "metadata": {
        "id": "1nq-JtqvXI3h",
        "colab": {
          "base_uri": "https://localhost:8080/"
        },
        "outputId": "7f9bd75f-2e94-4dbd-dfc9-d6da01919854"
      },
      "source": [
        "# Example 2\n",
        "# Lets get the sum of two numbers from a user's input\n",
        "# \n",
        "x = int(input('Enter the first number: '))\n",
        "y = int(input('Enter the second number: '))\n",
        "\n",
        "print(x + y)"
      ],
      "execution_count": 2,
      "outputs": [
        {
          "output_type": "stream",
          "text": [
            "Enter the first number: 5\n",
            "Enter the second number: 4\n",
            "9\n"
          ],
          "name": "stdout"
        }
      ]
    },
    {
      "cell_type": "code",
      "metadata": {
        "id": "_2nBPR_o3bgY",
        "colab": {
          "base_uri": "https://localhost:8080/"
        },
        "outputId": "f019d446-0ce9-466d-c7ca-aa87c1104f23"
      },
      "source": [
        "# Example 3\n",
        "# Let's get the name and age of the user \n",
        "#\n",
        "\n",
        "# Prompting the user to tell us their name and displaying their name\n",
        "name = input(\"What's your name? \")\n",
        "print(\"Nice to meet you \" + name + \"!\")\n",
        "\n",
        "# Prompting the user to tell use their age \n",
        "age = input(\"Your age? \")\n",
        "\n",
        "# Displaying both their name and age\n",
        "# Hint: Try to remove str() and see what happens. We will learn more about datatype conversion later()\n",
        "# \n",
        "print(\"So, you are already \" + str (age) + \" years old, \" + name + \"!\")"
      ],
      "execution_count": 3,
      "outputs": [
        {
          "output_type": "stream",
          "text": [
            "What's your name? Quincy\n",
            "Nice to meet you Quincy!\n",
            "Your age? 23\n",
            "So, you are already 23 years old, Quincy!\n"
          ],
          "name": "stdout"
        }
      ]
    },
    {
      "cell_type": "markdown",
      "metadata": {
        "id": "eEu2bBRRlo1e"
      },
      "source": [
        "### <font color = 'green'>  1.5 Challenges </font>"
      ]
    },
    {
      "cell_type": "code",
      "metadata": {
        "id": "RmNOhWeWlyLb",
        "colab": {
          "base_uri": "https://localhost:8080/"
        },
        "outputId": "b797f55f-f91f-4050-d55b-65a868a4a01e"
      },
      "source": [
        "# Challenge 1\n",
        "# Many people around the world think about their height in feet and inches \n",
        "# even here in Africa where many countries use the metric system. \n",
        "# Write a program reads the height in metres then converts it to\n",
        "# feet and inches. The program should display the equivalent \n",
        "# height in feet and height.\n",
        "# NB: You can look up the necessary conversion factors on the web.\n",
        "#\n",
        "#This code inputs height in metres\n",
        "height = float(input(\"Enter height in metres? \"))\n",
        "#This code coverts height in metres to feet and inches\n",
        "height = height * 3.281\n",
        "print(\"Your height in Feet and inches is \"+ str (height) + \"!\")\n"
      ],
      "execution_count": 5,
      "outputs": [
        {
          "output_type": "stream",
          "text": [
            "Enter height in metres? 1.59\n",
            "Your height in Feet and inches is 5.2167900000000005!\n"
          ],
          "name": "stdout"
        }
      ]
    },
    {
      "cell_type": "code",
      "metadata": {
        "id": "EdIZZ53Ml4Jx",
        "colab": {
          "base_uri": "https://localhost:8080/"
        },
        "outputId": "151386bd-9c29-4620-e54d-15dbf26e57b2"
      },
      "source": [
        "# Challenge 2\n",
        "# Given a certain column of data that has radius, a data scientist would like\n",
        "# to compute the volume the respective cylinder and save the result to a new column.\n",
        "# Thus, write a program that reads the radius of cylinder, along with its height \n",
        "# from the user to calculate the volume in the console.\n",
        "#\n",
        "#This code assigns radius to be input by user to variable radius \n",
        "#and height to be input by user to variable height1\n",
        "radius  = float(input(\"Enter radius of cylinder \"))\n",
        "height1 = float(input(\"Enter height of cylinder \"))\n",
        "#This code calculates the volume of the cylinder\n",
        "volume = 3.142*(radius**2)*height1\n",
        "#This code outputs the volume of the cylinder\n",
        "print(\"The volume of the cylinder is \" + str(volume) + \"!\")"
      ],
      "execution_count": 7,
      "outputs": [
        {
          "output_type": "stream",
          "text": [
            "Enter radius of cylinder 6.5\n",
            "Enter height of cylinder 3\n",
            "The volume of the cylinder is 398.2484999999999!\n"
          ],
          "name": "stdout"
        }
      ]
    },
    {
      "cell_type": "code",
      "metadata": {
        "id": "EuzTUGQnl4tz",
        "colab": {
          "base_uri": "https://localhost:8080/"
        },
        "outputId": "c9a17560-f15f-4efd-d3e8-f946289dbc5f"
      },
      "source": [
        "# Challenge 3\n",
        "# While paying for her parking fee of Ksh. 50 , Jane inserts a Note into \n",
        "# the paying machine and gets back her change. \n",
        "# Write a program that reads as input the note greater than Ksh. 200 \n",
        "# and returns change in notes of 100 and 50.\n",
        "# Use the knowledge of variables to printing, comments, operators \n",
        "# and input to print the no of denominations given\n",
        "# \n",
        "#This code assigns parking fee amount to variable z\n",
        "z = int(input(\"Enter parking fee \"))\n",
        "#This code assigns the note amount Jane used to variable n\n",
        "n = int(input(\"Enter the amount of the note entered: \"))\n",
        "#This code calculates remainder/change\n",
        "c = n-z\n",
        "#This code checks if the amount entered is greater than 200\n",
        "#if n > 200:\n",
        "  #this code calculates the number of denominations/notes the user will receive\n",
        "print(\"Number of denominations of 100: \",c//100 )\n",
        "print(\"Number of denominations of 50: \", (c%100)//50)\n",
        "\n",
        "\n"
      ],
      "execution_count": 10,
      "outputs": [
        {
          "output_type": "stream",
          "text": [
            "Enter parking fee 50\n",
            "Enter the amount of the note entered: 500\n",
            "Number of denominations of 100:  4\n",
            "Number of denominations of 50:  1\n"
          ],
          "name": "stdout"
        }
      ]
    }
  ]
}